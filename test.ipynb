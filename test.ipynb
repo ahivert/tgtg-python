{
 "cells": [
  {
   "cell_type": "code",
   "execution_count": 10,
   "metadata": {},
   "outputs": [
    {
     "name": "stdout",
     "output_type": "stream",
     "text": [
      "Using version 23.5.1\n"
     ]
    }
   ],
   "source": [
    "from tgtg import TgtgClient\n",
    "import json\n",
    "\n",
    "try:\n",
    "    with open('credentials.json') as json_file:\n",
    "        credentials = json.load(json_file)\n",
    "    client = TgtgClient(access_token= credentials[\"access_token\"], \n",
    "                    refresh_token=credentials[\"refresh_token\"],\n",
    "                    user_id=credentials[\"user_id\"],\n",
    "                    cookie= credentials[\"cookie\"] )\n",
    "except:\n",
    "    client = TgtgClient(email=\"matteo@ultra.fyi\")\n",
    "    credentials = client.get_credentials()\n",
    "    with open(\"credentials.json\", \"w\") as json_file:\n",
    "        json.dump(credentials, json_file)\n",
    "\n"
   ]
  },
  {
   "cell_type": "code",
   "execution_count": 11,
   "metadata": {},
   "outputs": [],
   "source": [
    "items = client.get_items(\n",
    "    favorites_only=False,\n",
    "    latitude=48.126,\n",
    "    longitude=-1.723,\n",
    "    radius=10,\n",
    ")\n"
   ]
  },
  {
   "cell_type": "code",
   "execution_count": 8,
   "metadata": {},
   "outputs": [
    {
     "name": "stdout",
     "output_type": "stream",
     "text": [
      "[{'item': {'item_id': '594474', 'sales_taxes': [{'tax_description': 'TVA', 'tax_percentage': 10.0}], 'tax_amount': {'code': 'EUR', 'minor_units': 23, 'decimals': 2}, 'price_excluding_taxes': {'code': 'EUR', 'minor_units': 226, 'decimals': 2}, 'price_including_taxes': {'code': 'EUR', 'minor_units': 249, 'decimals': 2}, 'value_excluding_taxes': {'code': 'EUR', 'minor_units': 0, 'decimals': 2}, 'value_including_taxes': {'code': 'EUR', 'minor_units': 0, 'decimals': 2}, 'taxation_policy': 'PRICE_INCLUDES_TAXES', 'show_sales_taxes': False, 'cover_picture': {'picture_id': '599798', 'current_url': 'https://images.tgtg.ninja/item/cover/b4b6556d-af1a-44d6-8a69-feff00395017.jpg', 'is_automatically_created': False}, 'logo_picture': {'picture_id': '599772', 'current_url': 'https://images.tgtg.ninja/store/cddddc73-ab8b-44e0-b32b-a5cc740f3df0.png', 'is_automatically_created': False}, 'name': 'Petit-Déjeuner', 'description': '', 'food_handling_instructions': '', 'can_user_supply_packaging': False, 'packaging_option': 'CANT_BRING_ANYTHING', 'collection_info': \"s'adresser directement à l'accueil entre 10h et midi, pour la collecte du sac. Fermeture de l'accueil à midi.\", 'diet_categories': [], 'item_category': 'BAKED_GOODS', 'buffet': True, 'badges': [], 'positive_rating_reasons': ['POSITIVE_FEEDBACK_FRIENDLY_STAFF', 'POSITIVE_FEEDBACK_QUICK_COLLECTION', 'POSITIVE_FEEDBACK_DELICIOUS_FOOD', 'POSITIVE_FEEDBACK_GREAT_VALUE', 'POSITIVE_FEEDBACK_GREAT_QUANTITY', 'POSITIVE_FEEDBACK_GREAT_VARIETY'], 'average_overall_rating': {'average_overall_rating': 3.017857142857143, 'rating_count': 56, 'month_count': 6}, 'favorite_count': 0}, 'store': {'store_id': '607653', 'store_name': \"Appart'City - Rennes Beauregard\", 'branch': '', 'description': '', 'tax_identifier': 'FR30490176120', 'website': '', 'store_location': {'address': {'country': {'iso_code': 'FR', 'name': 'France'}, 'address_line': '1 Rue Aurélie Nemours, 35000 Rennes, France', 'city': '', 'postal_code': ''}, 'location': {'longitude': -1.6954399, 'latitude': 48.1314894}}, 'logo_picture': {'picture_id': '599772', 'current_url': 'https://images.tgtg.ninja/store/cddddc73-ab8b-44e0-b32b-a5cc740f3df0.png', 'is_automatically_created': False}, 'store_time_zone': 'Europe/Paris', 'hidden': False, 'favorite_count': 0, 'we_care': False, 'distance': 2.134593102519556, 'cover_picture': {'picture_id': '599798', 'current_url': 'https://images.tgtg.ninja/item/cover/b4b6556d-af1a-44d6-8a69-feff00395017.jpg', 'is_automatically_created': False}, 'is_manufacturer': False}, 'display_name': \"Appart'City - Rennes Beauregard (Petit-Déjeuner)\", 'pickup_interval': {'start': '2023-06-05T08:00:00Z', 'end': '2023-06-05T10:00:00Z'}, 'pickup_location': {'address': {'country': {'iso_code': 'FR', 'name': 'France'}, 'address_line': '1 Rue Aurélie Nemours, 35000 Rennes, France', 'city': '', 'postal_code': ''}, 'location': {'longitude': -1.6954399, 'latitude': 48.1314894}}, 'purchase_end': '2023-06-05T10:00:00Z', 'items_available': 1, 'distance': 2.134593102519556, 'favorite': False, 'in_sales_window': True, 'new_item': False, 'item_type': 'MAGIC_BAG'}]\n"
     ]
    }
   ],
   "source": [
    "filtered_list = []\n",
    "for item in items:\n",
    "    if item[\"items_available\"] > 0:\n",
    "        filtered_list.append(item)\n",
    "\n",
    "print(filtered_list)"
   ]
  },
  {
   "cell_type": "code",
   "execution_count": 9,
   "metadata": {},
   "outputs": [
    {
     "name": "stdout",
     "output_type": "stream",
     "text": [
      "{'id': 'a3ulpfzowlp', 'item_id': '594474', 'user_id': '105675530', 'state': 'RESERVED', 'order_line': {'quantity': 1, 'item_price_including_taxes': {'code': 'EUR', 'minor_units': 249, 'decimals': 2}, 'item_price_excluding_taxes': {'code': 'EUR', 'minor_units': 226, 'decimals': 2}, 'total_price_including_taxes': {'code': 'EUR', 'minor_units': 249, 'decimals': 2}, 'total_price_excluding_taxes': {'code': 'EUR', 'minor_units': 226, 'decimals': 2}}, 'reserved_at': '2023-06-04T12:16:39.088306432', 'order_type': 'MAGICBAG'}\n"
     ]
    }
   ],
   "source": [
    "item = filtered_list[0]\n",
    "item_id = item[\"item\"][\"item_id\"]\n",
    "order = client.create_order(item_id, 1)\n",
    "print(order)"
   ]
  },
  {
   "cell_type": "code",
   "execution_count": 13,
   "metadata": {},
   "outputs": [],
   "source": [
    "card_data = {\"card\":'123456789', \n",
    "             \"cvv\":'123', \n",
    "             \"month\":'12', \n",
    "             \"year\":'3456'\n",
    "             }\n",
    "order_id = order[\"id\"]\n",
    "response = client.pay_order(order_id, card_data)\n",
    "payment_id = response[\"payment_id\"]\n",
    "\n"
   ]
  },
  {
   "cell_type": "code",
   "execution_count": 12,
   "metadata": {},
   "outputs": [
    {
     "ename": "NameError",
     "evalue": "name 'payment_id' is not defined",
     "output_type": "error",
     "traceback": [
      "\u001b[0;31m---------------------------------------------------------------------------\u001b[0m",
      "\u001b[0;31mNameError\u001b[0m                                 Traceback (most recent call last)",
      "Cell \u001b[0;32mIn[12], line 1\u001b[0m\n\u001b[0;32m----> 1\u001b[0m client\u001b[39m.\u001b[39mget_payment_status(payment_id)\n",
      "\u001b[0;31mNameError\u001b[0m: name 'payment_id' is not defined"
     ]
    }
   ],
   "source": [
    "client.get_payment_status(payment_id)"
   ]
  }
 ],
 "metadata": {
  "kernelspec": {
   "display_name": "Python 3",
   "language": "python",
   "name": "python3"
  },
  "language_info": {
   "codemirror_mode": {
    "name": "ipython",
    "version": 3
   },
   "file_extension": ".py",
   "mimetype": "text/x-python",
   "name": "python",
   "nbconvert_exporter": "python",
   "pygments_lexer": "ipython3",
   "version": "3.11.3"
  },
  "orig_nbformat": 4
 },
 "nbformat": 4,
 "nbformat_minor": 2
}
